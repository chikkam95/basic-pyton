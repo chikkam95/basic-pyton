{
  "nbformat": 4,
  "nbformat_minor": 0,
  "metadata": {
    "colab": {
      "provenance": []
    },
    "kernelspec": {
      "name": "python3",
      "display_name": "Python 3"
    },
    "language_info": {
      "name": "python"
    }
  },
  "cells": [
    {
      "cell_type": "code",
      "execution_count": 1,
      "metadata": {
        "id": "65_1AOL1t62_"
      },
      "outputs": [],
      "source": [
        "# weighted exam avg score"
      ]
    },
    {
      "cell_type": "code",
      "source": [],
      "metadata": {
        "colab": {
          "base_uri": "https://localhost:8080/"
        },
        "id": "FWpKh9b6wFey",
        "outputId": "756c6f6f-fe0e-417b-e818-76912526fa00"
      },
      "execution_count": 2,
      "outputs": [
        {
          "name": "stdout",
          "output_type": "stream",
          "text": [
            "enter no of exams10\n"
          ]
        }
      ]
    },
    {
      "cell_type": "code",
      "source": [
        "print(n_o_exams)"
      ],
      "metadata": {
        "colab": {
          "base_uri": "https://localhost:8080/"
        },
        "id": "GSipO9rGwFbX",
        "outputId": "65c12b56-507a-48b8-9881-327bca652c70"
      },
      "execution_count": 3,
      "outputs": [
        {
          "output_type": "stream",
          "name": "stdout",
          "text": [
            "10\n"
          ]
        }
      ]
    },
    {
      "cell_type": "code",
      "source": [
        "n_o_exams= int(input(\"enter no of exams \"))\n",
        "#entering how many creditd \n",
        "t_credits=int(input('enter  credits  these exams cover'))\n",
        "avg=0\n",
        "for i in range(n_o_exams):\n",
        "  z=i+1\n",
        "  score= int(input('enter exam %d score' %z))\n",
        "  exam_credit= int(input('credit for exam %d' %z))\n",
        "  avg=avg+ score*exam_credit/t_credits\n",
        "\n",
        "print('your avg is ',avg)\n"
      ],
      "metadata": {
        "colab": {
          "base_uri": "https://localhost:8080/"
        },
        "id": "WXBr2Rw9wFY9",
        "outputId": "1f5e89f7-b4f6-4655-d602-318d4154294a"
      },
      "execution_count": 11,
      "outputs": [
        {
          "output_type": "stream",
          "name": "stdout",
          "text": [
            "enter no of exams 2\n",
            "enter  credits  these exams cover600\n",
            "enter exam 1 score200\n",
            "credit for exam 1i300\n",
            "enter exam 2 score100\n",
            "credit for exam 2i300\n",
            "your avg is  150.0\n"
          ]
        }
      ]
    },
    {
      "cell_type": "code",
      "source": [],
      "metadata": {
        "id": "hlEE4LhhwFWL"
      },
      "execution_count": null,
      "outputs": []
    },
    {
      "cell_type": "code",
      "source": [],
      "metadata": {
        "id": "SphuS-T1wFTc"
      },
      "execution_count": null,
      "outputs": []
    },
    {
      "cell_type": "code",
      "source": [],
      "metadata": {
        "id": "n-7YAxdjwFQ-"
      },
      "execution_count": null,
      "outputs": []
    },
    {
      "cell_type": "code",
      "source": [],
      "metadata": {
        "id": "EKAKpHfdwFBc"
      },
      "execution_count": null,
      "outputs": []
    }
  ]
}